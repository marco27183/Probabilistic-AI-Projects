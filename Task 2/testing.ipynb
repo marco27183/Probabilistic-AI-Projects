{
 "cells": [
  {
   "cell_type": "code",
   "execution_count": 9,
   "metadata": {},
   "outputs": [],
   "source": [
    "import os\n",
    "import typing\n",
    "\n",
    "import numpy as np\n",
    "import torch\n",
    "import torch.optim\n",
    "from matplotlib import pyplot as plt\n",
    "from sklearn.metrics import roc_auc_score, average_precision_score\n",
    "from torch import nn\n",
    "from torch.nn import functional as F\n",
    "from tqdm import trange\n",
    "\n",
    "import abc\n",
    "import warnings"
   ]
  },
  {
   "cell_type": "code",
   "execution_count": 6,
   "metadata": {},
   "outputs": [
    {
     "data": {
      "text/plain": [
       "1.0"
      ]
     },
     "execution_count": 6,
     "metadata": {},
     "output_type": "execute_result"
    }
   ],
   "source": [
    "torch.Tensor([1.0]).item()"
   ]
  },
  {
   "cell_type": "code",
   "execution_count": 11,
   "metadata": {},
   "outputs": [],
   "source": [
    "class ParameterDistribution(torch.nn.Module, metaclass=abc.ABCMeta):\n",
    "    \"\"\"\n",
    "    Abstract class that models a distribution over model parameters,\n",
    "    usable for Bayes by backprop.\n",
    "    You can implement this class using any distribution you want\n",
    "    and try out different priors and variational posteriors.\n",
    "    All torch.nn.Parameter that you add in the __init__ method of this class\n",
    "    will automatically be registered and know to PyTorch.\n",
    "    \"\"\"\n",
    "\n",
    "    def __init__(self):\n",
    "        super().__init__()\n",
    "\n",
    "    @abc.abstractmethod\n",
    "    def log_likelihood(self, values: torch.Tensor) -> torch.Tensor:\n",
    "        \"\"\"\n",
    "        Calculate the log-likelihood of the given values\n",
    "        :param values: Values to calculate the log-likelihood on\n",
    "        :return: Log-likelihood\n",
    "        \"\"\"\n",
    "        pass\n",
    "\n",
    "    @abc.abstractmethod\n",
    "    def sample(self) -> torch.Tensor:\n",
    "        \"\"\"\n",
    "        Sample from this distribution.\n",
    "        Note that you only need to implement this method for variational posteriors, not priors.\n",
    "\n",
    "        :return: Sample from this distribution. The sample shape depends on your semantics.\n",
    "        \"\"\"\n",
    "        pass\n",
    "\n",
    "    def forward(self, values: torch.Tensor) -> torch.Tensor:\n",
    "        # DO NOT USE THIS METHOD\n",
    "        # We only implement it since torch.nn.Module requires a forward method\n",
    "        warnings.warn('ParameterDistribution should not be called! Use its explicit methods!')\n",
    "        return self.log_likelihood(values)"
   ]
  },
  {
   "cell_type": "code",
   "execution_count": 112,
   "metadata": {},
   "outputs": [],
   "source": [
    "class UnivariateGaussian(ParameterDistribution):\n",
    "    \"\"\"\n",
    "    Univariate Gaussian distribution.\n",
    "    For multivariate data, this assumes all elements to be i.i.d.\n",
    "    \"\"\"\n",
    "\n",
    "    def __init__(self, mu: torch.Tensor, sigma: torch.Tensor):\n",
    "        super(\n",
    "            UnivariateGaussian, self\n",
    "        ).__init__()  # always make sure to include the super-class init call!\n",
    "        assert mu.size() == () and sigma.size() == ()\n",
    "        assert sigma > 0\n",
    "        self.mu = mu\n",
    "        self.sigma = sigma\n",
    "\n",
    "    def log_likelihood(self, values: torch.Tensor) -> torch.Tensor:\n",
    "        ll = torch.log(((1. / np.sqrt(2.0 * np.pi))/self.sigma) * torch.exp(- (values - self.mu) ** 2 / (2.0 * self.sigma ** 2))).sum()\n",
    "        return ll  # clip to avoid numerical issues\n",
    "\n",
    "    def sample(self) -> torch.Tensor:\n",
    "        # TODO: Implement this\n",
    "        raise NotImplementedError()"
   ]
  },
  {
   "cell_type": "code",
   "execution_count": 113,
   "metadata": {},
   "outputs": [],
   "source": [
    "test_norm = UnivariateGaussian(torch.tensor(0.0), torch.tensor(1.0))"
   ]
  },
  {
   "cell_type": "code",
   "execution_count": 68,
   "metadata": {},
   "outputs": [],
   "source": [
    "test_values = torch.Tensor([1.1])"
   ]
  },
  {
   "cell_type": "code",
   "execution_count": 69,
   "metadata": {},
   "outputs": [
    {
     "data": {
      "text/plain": [
       "tensor(-1.5239)"
      ]
     },
     "execution_count": 69,
     "metadata": {},
     "output_type": "execute_result"
    }
   ],
   "source": [
    "torch.log(1/ np.sqrt(2* np.pi * (torch.tensor(1.0) ** 2)) * torch.exp(-1/2*(torch.tensor(1.0) ** 2) * (test_values - torch.tensor(0.0)) ** 2)).sum()"
   ]
  },
  {
   "cell_type": "code",
   "execution_count": 114,
   "metadata": {},
   "outputs": [
    {
     "ename": "NameError",
     "evalue": "name 'sigma' is not defined",
     "output_type": "error",
     "traceback": [
      "\u001b[0;31m---------------------------------------------------------------------------\u001b[0m",
      "\u001b[0;31mNameError\u001b[0m                                 Traceback (most recent call last)",
      "\u001b[0;32m/tmp/ipykernel_11817/2379216934.py\u001b[0m in \u001b[0;36m<module>\u001b[0;34m\u001b[0m\n\u001b[0;32m----> 1\u001b[0;31m \u001b[0mtest_norm\u001b[0m\u001b[0;34m.\u001b[0m\u001b[0mlog_likelihood\u001b[0m\u001b[0;34m(\u001b[0m\u001b[0mweight\u001b[0m\u001b[0;34m)\u001b[0m\u001b[0;34m\u001b[0m\u001b[0;34m\u001b[0m\u001b[0m\n\u001b[0m",
      "\u001b[0;32m/tmp/ipykernel_11817/3678387908.py\u001b[0m in \u001b[0;36mlog_likelihood\u001b[0;34m(self, values)\u001b[0m\n\u001b[1;32m     15\u001b[0m \u001b[0;34m\u001b[0m\u001b[0m\n\u001b[1;32m     16\u001b[0m     \u001b[0;32mdef\u001b[0m \u001b[0mlog_likelihood\u001b[0m\u001b[0;34m(\u001b[0m\u001b[0mself\u001b[0m\u001b[0;34m,\u001b[0m \u001b[0mvalues\u001b[0m\u001b[0;34m:\u001b[0m \u001b[0mtorch\u001b[0m\u001b[0;34m.\u001b[0m\u001b[0mTensor\u001b[0m\u001b[0;34m)\u001b[0m \u001b[0;34m->\u001b[0m \u001b[0mtorch\u001b[0m\u001b[0;34m.\u001b[0m\u001b[0mTensor\u001b[0m\u001b[0;34m:\u001b[0m\u001b[0;34m\u001b[0m\u001b[0;34m\u001b[0m\u001b[0m\n\u001b[0;32m---> 17\u001b[0;31m         \u001b[0mll\u001b[0m \u001b[0;34m=\u001b[0m \u001b[0mtorch\u001b[0m\u001b[0;34m.\u001b[0m\u001b[0mlog\u001b[0m\u001b[0;34m(\u001b[0m\u001b[0;34m(\u001b[0m\u001b[0;34m(\u001b[0m\u001b[0;36m1.\u001b[0m \u001b[0;34m/\u001b[0m \u001b[0mnp\u001b[0m\u001b[0;34m.\u001b[0m\u001b[0msqrt\u001b[0m\u001b[0;34m(\u001b[0m\u001b[0;36m2.0\u001b[0m \u001b[0;34m*\u001b[0m \u001b[0mnp\u001b[0m\u001b[0;34m.\u001b[0m\u001b[0mpi\u001b[0m\u001b[0;34m)\u001b[0m\u001b[0;34m)\u001b[0m\u001b[0;34m/\u001b[0m\u001b[0msigma\u001b[0m\u001b[0;34m)\u001b[0m \u001b[0;34m*\u001b[0m \u001b[0mtorch\u001b[0m\u001b[0;34m.\u001b[0m\u001b[0mexp\u001b[0m\u001b[0;34m(\u001b[0m\u001b[0;34m-\u001b[0m \u001b[0;34m(\u001b[0m\u001b[0mvalues\u001b[0m \u001b[0;34m-\u001b[0m \u001b[0mself\u001b[0m\u001b[0;34m.\u001b[0m\u001b[0mmu\u001b[0m\u001b[0;34m)\u001b[0m \u001b[0;34m**\u001b[0m \u001b[0;36m2\u001b[0m \u001b[0;34m/\u001b[0m \u001b[0;34m(\u001b[0m\u001b[0;36m2.0\u001b[0m \u001b[0;34m*\u001b[0m \u001b[0mself\u001b[0m\u001b[0;34m.\u001b[0m\u001b[0msigma\u001b[0m \u001b[0;34m**\u001b[0m \u001b[0;36m2\u001b[0m\u001b[0;34m)\u001b[0m\u001b[0;34m)\u001b[0m\u001b[0;34m)\u001b[0m\u001b[0;34m.\u001b[0m\u001b[0msum\u001b[0m\u001b[0;34m(\u001b[0m\u001b[0;34m)\u001b[0m\u001b[0;34m\u001b[0m\u001b[0;34m\u001b[0m\u001b[0m\n\u001b[0m\u001b[1;32m     18\u001b[0m         \u001b[0;32mreturn\u001b[0m \u001b[0mll\u001b[0m  \u001b[0;31m# clip to avoid numerical issues\u001b[0m\u001b[0;34m\u001b[0m\u001b[0;34m\u001b[0m\u001b[0m\n\u001b[1;32m     19\u001b[0m \u001b[0;34m\u001b[0m\u001b[0m\n",
      "\u001b[0;31mNameError\u001b[0m: name 'sigma' is not defined"
     ]
    }
   ],
   "source": [
    "test_norm.log_likelihood(weight)"
   ]
  },
  {
   "cell_type": "code",
   "execution_count": 95,
   "metadata": {},
   "outputs": [
    {
     "data": {
      "text/plain": [
       "tensor(-22.2006, grad_fn=<AddBackward0>)"
      ]
     },
     "execution_count": 95,
     "metadata": {},
     "output_type": "execute_result"
    }
   ],
   "source": [
    "test_norm.log_likelihood(weight) + test_norm.log_likelihood(bias)"
   ]
  },
  {
   "cell_type": "code",
   "execution_count": 89,
   "metadata": {},
   "outputs": [],
   "source": [
    "out_features = 4\n",
    "in_features = 5\n",
    "weight_rho = nn.Parameter(torch.Tensor(out_features, in_features).uniform_(-3., -3.))\n",
    "weight_mu = nn.Parameter(torch.Tensor(out_features, in_features).normal_(0., .1))\n",
    "bias_mu = nn.Parameter(torch.Tensor(out_features).normal_(0., .1))\n",
    "bias_rho = nn.Parameter(torch.Tensor(out_features).uniform_(-3., -3.))\n",
    "\n",
    "weight_sigma = torch.log(1. + torch.exp(weight_rho))\n",
    "bias_sigma = torch.log(1. + torch.exp(bias_rho))\n",
    "epsilon_weight = torch.autograd.Variable(torch.Tensor(out_features, in_features).normal_(0., 1.))\n",
    "epsilon_bias = torch.autograd.Variable(torch.Tensor(out_features).normal_(0., 1.))\n",
    "weight = weight_mu + weight_sigma * epsilon_weight\n",
    "bias = bias_mu + bias_sigma * epsilon_bias"
   ]
  },
  {
   "cell_type": "code",
   "execution_count": 94,
   "metadata": {},
   "outputs": [
    {
     "data": {
      "text/plain": [
       "tensor(2.2531, grad_fn=<LogBackward>)"
      ]
     },
     "execution_count": 94,
     "metadata": {},
     "output_type": "execute_result"
    }
   ],
   "source": [
    "GAUSSIAN_SCALER = 1. / np.sqrt(2.0 * np.pi)\n",
    "def gaussian(x, mu, sigma):\n",
    "    bell = torch.exp(- (x - mu) ** 2 / (2.0 * sigma ** 2))\n",
    "    return torch.clamp(GAUSSIAN_SCALER / sigma * bell, 1e-10, 1.)  # clip to avoid numerical issues\n",
    "\n",
    "torch.log(gaussian(weight, 0, 1.0).sum() + gaussian(bias, 0, 1.0).sum())"
   ]
  }
 ],
 "metadata": {
  "interpreter": {
   "hash": "9b00745acea50bfbd0f952ed96a3af3e23f07a15e06f6e82e3ab66a13ea81a2e"
  },
  "kernelspec": {
   "display_name": "Python 3.8.5 64-bit ('paiTask2': conda)",
   "name": "python3"
  },
  "language_info": {
   "codemirror_mode": {
    "name": "ipython",
    "version": 3
   },
   "file_extension": ".py",
   "mimetype": "text/x-python",
   "name": "python",
   "nbconvert_exporter": "python",
   "pygments_lexer": "ipython3",
   "version": "3.8.5"
  },
  "orig_nbformat": 4
 },
 "nbformat": 4,
 "nbformat_minor": 2
}
